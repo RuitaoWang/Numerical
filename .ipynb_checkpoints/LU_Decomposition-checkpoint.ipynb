{
 "cells": [
  {
   "cell_type": "markdown",
   "metadata": {},
   "source": [
    "# LU Decomposition and Linear System"
   ]
  },
  {
   "cell_type": "markdown",
   "metadata": {},
   "source": [
    "Here in this section, basic algorithm used for solving linear system (nonsingular) are explored here. An application for cubic spline interpolation is also included for the purpose of practice. Contents arranged as follows:\n",
    "* **Forward Substitution & Backward Substitution**\n",
    "* **LU Decomposition (with and without row pivoting)**\n",
    "* **Cubic Spline Interpolation**\n",
    "\n",
    "However, this thread is for the purpose of practice. It should be noted that most of the functions below are actually contained in the **scipy.linalg** library (scipy linear algebra library)."
   ]
  },
  {
   "cell_type": "code",
   "execution_count": 1,
   "metadata": {
    "collapsed": false
   },
   "outputs": [],
   "source": [
    "import numpy as np\n",
    "import pandas as pd\n",
    "from scipy.interpolate import interp1d\n",
    "import matplotlib.pyplot as plt\n",
    "%precision 4\n",
    "%matplotlib inline"
   ]
  },
  {
   "cell_type": "markdown",
   "metadata": {},
   "source": [
    "### Forward and Backward Substitution"
   ]
  },
  {
   "cell_type": "markdown",
   "metadata": {},
   "source": [
    "**Forward Substitution**\n",
    "\n",
    "Forward substitution can be used to solve a nonsigular lower triangular linear system.\n",
    "\n",
    "It should be noted that the operations needed for this calculation is:  $\\textbf n^{2} + O(n) $ "
   ]
  },
  {
   "cell_type": "code",
   "execution_count": 2,
   "metadata": {
    "collapsed": false
   },
   "outputs": [],
   "source": [
    "def forward_sub(A,b):\n",
    "    \n",
    "   # parameter:\n",
    "   # A: nonsigular lower triangular matrix\n",
    "   # b: clolumn vector\n",
    "    n = np.size(b)\n",
    "    x = np.zeros(n)\n",
    "    x[0] =  b[0]/A[0,0]\n",
    "    for i in range(1,n):\n",
    "        x[i] = (b[i]-np.dot(A[i,0:i],x[0:i]).sum())/A[i,i]\n",
    "    return x      "
   ]
  },
  {
   "cell_type": "code",
   "execution_count": 3,
   "metadata": {
    "collapsed": true
   },
   "outputs": [],
   "source": [
    "# Here we try the forward_sub function with a example.\n",
    "A = np.array([\n",
    "        [100,0,0,0],\n",
    "        [6,106,0,0],\n",
    "        [8,8,108,0],\n",
    "        [5,5,5,105]\n",
    "    ])\n",
    "b = np.array([98,104,111,102])"
   ]
  },
  {
   "cell_type": "code",
   "execution_count": 4,
   "metadata": {
    "collapsed": false
   },
   "outputs": [
    {
     "name": "stdout",
     "output_type": "stream",
     "text": [
      "[ 0.98    0.9257  0.8866  0.8385]\n",
      "[  98.  104.  111.  102.]\n"
     ]
    }
   ],
   "source": [
    "x = forward_sub(A,b)\n",
    "y = np.dot(A,x)\n",
    "print(x)\n",
    "print(y)\n",
    "# It is clear we got the right answer. One thing should be noted about forward substitution \n",
    "# method is that unlike the iterative method, which provide only an approximation, forward\n",
    "# substitution provide exact solution."
   ]
  },
  {
   "cell_type": "markdown",
   "metadata": {},
   "source": [
    "**Backward Substitution**\n",
    "\n",
    "Forward substitution can be used to solve a nonsigular upper triangular linear system.\n",
    "\n",
    "Like the forward subsitution method, the operations needed for this calculation is:  $\\textbf n^{2} + O(n) $"
   ]
  },
  {
   "cell_type": "code",
   "execution_count": 5,
   "metadata": {
    "collapsed": true
   },
   "outputs": [],
   "source": [
    "def backward_sub(A,b):\n",
    "    # Parameter:\n",
    "    # A nonsigular upper triangular matrix\n",
    "    # b clolumn vector\n",
    "    n = np.size(b)\n",
    "    x = np.zeros(n)\n",
    "    x[n-1] = b[n-1]/A[n-1,n-1]\n",
    "    for i in range(n-2,-1,-1):\n",
    "        x[i] = (b[i] - np.dot(A[i,i+1:n],x[i+1:n]).sum())/A[i,i]\n",
    "    return x"
   ]
  },
  {
   "cell_type": "code",
   "execution_count": 6,
   "metadata": {
    "collapsed": false
   },
   "outputs": [],
   "source": [
    "# Here we try the forward_sub function with a example.\n",
    "A = np.array([\n",
    "        [5,5,5,105],\n",
    "        [0,6,6,106],\n",
    "        [0,0,4,108],\n",
    "        [0,0,0,105]\n",
    "    ])\n",
    "b = np.array([98,104,111,102])"
   ]
  },
  {
   "cell_type": "code",
   "execution_count": 7,
   "metadata": {
    "collapsed": false
   },
   "outputs": [
    {
     "name": "stdout",
     "output_type": "stream",
     "text": [
      "[-0.9714 -1.35    1.5214  0.9714]\n",
      "[  98.  104.  111.  102.]\n"
     ]
    }
   ],
   "source": [
    "x = backward_sub(A,b)\n",
    "y = np.dot(A,x)\n",
    "print(x)\n",
    "print(y)\n",
    "# Also correct."
   ]
  },
  {
   "cell_type": "markdown",
   "metadata": {},
   "source": [
    "### LU Decomposition"
   ]
  },
  {
   "cell_type": "markdown",
   "metadata": {},
   "source": [
    "LU decomposition provides a computationally efficient way for solving linear systems. While the LU decomposition without row pivoting only works with matrices that don't have zero principal minors, LU decomposition works with any nonsigular matrix."
   ]
  },
  {
   "cell_type": "markdown",
   "metadata": {},
   "source": [
    "** LU Decomposition wihout pivoting **\n",
    "\n",
    "The operation needed for LU decomposition is: $ \\frac{2}{3} n^{3} + O(n) $"
   ]
  },
  {
   "cell_type": "code",
   "execution_count": 8,
   "metadata": {
    "collapsed": false
   },
   "outputs": [],
   "source": [
    "def lu_no_pivot(A):\n",
    "    # Parameter\n",
    "    # A: nonsigular matrix with all principal minors nonzeo\n",
    "    n = len(A)\n",
    "    L = np.zeros((n,n))\n",
    "    U = np.zeros((n,n))\n",
    "    # performs the decomposition\n",
    "    for i in range(0,n-1):\n",
    "        for k in range(i,n):\n",
    "            U[i,k] = A[i,k]\n",
    "            L[k,i] = A[k,i]/U[i,i]\n",
    "        for j in range(i+1,n):\n",
    "            for k in range(i+1,n):\n",
    "                A[j,k] = A[j,k] - L[j,i]*U[i,k]\n",
    "    L[n-1,n-1] = 1\n",
    "    U[n-1,n-1] = A[n-1,n-1]\n",
    "    return L, U"
   ]
  },
  {
   "cell_type": "code",
   "execution_count": 9,
   "metadata": {
    "collapsed": true
   },
   "outputs": [],
   "source": [
    "A =np.array([\n",
    "        [1,2,3],\n",
    "        [0,3,2],\n",
    "        [0,0,1]\n",
    "    ])"
   ]
  },
  {
   "cell_type": "code",
   "execution_count": 10,
   "metadata": {
    "collapsed": false
   },
   "outputs": [
    {
     "name": "stdout",
     "output_type": "stream",
     "text": [
      "The matrix L: \n",
      "[[ 1.  0.  0.]\n",
      " [ 0.  1.  0.]\n",
      " [ 0.  0.  1.]]\n",
      "The matrix U: \n",
      "[[ 1.  2.  3.]\n",
      " [ 0.  3.  2.]\n",
      " [ 0.  0.  1.]]\n",
      "Their dot product: \n",
      "[[ 1.  2.  3.]\n",
      " [ 0.  3.  2.]\n",
      " [ 0.  0.  1.]]\n"
     ]
    }
   ],
   "source": [
    "L = lu_no_pivot(A)[0]\n",
    "U = lu_no_pivot(A)[1]\n",
    "print('The matrix L: ')\n",
    "print(L)\n",
    "print('The matrix U: ')\n",
    "print(U)\n",
    "print('Their dot product: ')\n",
    "print(np.dot(L,U))"
   ]
  },
  {
   "cell_type": "markdown",
   "metadata": {},
   "source": [
    "** LU Decomposition with row Pivoting **\n",
    "\n",
    "The essence of LU decomposition with row pivoting is actually reorder the rows of the matrix so that all its principal mominors are nonzero. It can be used for linear system since we can reorder the right hand side column as well so there was no real impact on the linear system from the perspective of the solution."
   ]
  },
  {
   "cell_type": "code",
   "execution_count": 11,
   "metadata": {
    "collapsed": true
   },
   "outputs": [],
   "source": [
    "def pivot_matrix(M):\n",
    "    # Parameter\n",
    "    # M: the marix we'd like to pivot\n",
    "    m = len(M)\n",
    "    # Create an identity matrix                                                                                                                                                                                      \n",
    "    id_mat = np.identity(m)                                                                                                                                                                                             \n",
    "    for j in range(m):\n",
    "        row = max(range(j, m), key=lambda i: abs(M[i][j]))\n",
    "        if j != row:\n",
    "            # Swap the rows                                                                                                                                                                                                                            \n",
    "            id_mat[j], id_mat[row] = id_mat[row], id_mat[j]\n",
    "    return id_mat\n",
    "\n",
    "def lu_pivot(X):\n",
    "    # Parameter\n",
    "    # A: nonsigular matrix with all principal minors nonzeo  \n",
    "    n = len(X)                                                                                                                                                                                                          \n",
    "    L = np.zeros((n,n))\n",
    "    U = np.zeros((n,n))\n",
    "    # Create the pivot matrix P and the multipled matrix PX                                                                                                                                                                                           \n",
    "    P = pivot_matrix(X)\n",
    "    PX = np.dot(P, X)\n",
    "    # Perform the LU Decomposition                                                                                                                                                                                                                     \n",
    "    for j in range(n):\n",
    "        # All diagonal entries of L are set to unity                                                                                                                                                                                                   \n",
    "        L[j][j] = 1                                                                                                                                                                                   \n",
    "        for i in range(j+1):\n",
    "            s1 = sum(U[k][j] * L[i][k] for k in range(i))\n",
    "            U[i][j] = PX[i][j] - s1\n",
    "        for i in range(j, n):\n",
    "            s2 = sum(U[k][j] * L[i][k] for k in range(j))\n",
    "            L[i][j] = (PX[i][j] - s2) / U[j][j]\n",
    "    return (P, L, U)\n",
    "# returns 3 matrix: permuation, L, and U such that PA = LU"
   ]
  },
  {
   "cell_type": "code",
   "execution_count": 12,
   "metadata": {
    "collapsed": false
   },
   "outputs": [
    {
     "data": {
      "text/plain": [
       "array([[ 1.,  2.,  3.],\n",
       "       [ 0.,  3.,  2.],\n",
       "       [ 0.,  0.,  1.]])"
      ]
     },
     "execution_count": 12,
     "metadata": {},
     "output_type": "execute_result"
    }
   ],
   "source": [
    "x = lu_pivot(A)\n",
    "np.dot(x[1],x[2])"
   ]
  },
  {
   "cell_type": "code",
   "execution_count": 13,
   "metadata": {
    "collapsed": false
   },
   "outputs": [],
   "source": [
    "B = np.array([[7, 3, -1, 2], \n",
    "              [3, 8, 1, -4], \n",
    "              [-1, 1, 4, -1], \n",
    "              [2, -4, -1, 6]])"
   ]
  },
  {
   "cell_type": "code",
   "execution_count": 14,
   "metadata": {
    "collapsed": false
   },
   "outputs": [
    {
     "name": "stdout",
     "output_type": "stream",
     "text": [
      "[[ 7.  3. -1.  2.]\n",
      " [ 3.  8.  1. -4.]\n",
      " [-1.  1.  4. -1.]\n",
      " [ 2. -4. -1.  6.]]\n",
      "[[ 7.  3. -1.  2.]\n",
      " [ 3.  8.  1. -4.]\n",
      " [-1.  1.  4. -1.]\n",
      " [ 2. -4. -1.  6.]]\n"
     ]
    }
   ],
   "source": [
    "y = lu_pivot(B)\n",
    "print(np.dot(y[0],B))\n",
    "print(np.dot(y[1],y[2]))"
   ]
  },
  {
   "cell_type": "markdown",
   "metadata": {},
   "source": [
    "It is shown that PA = LU, the above algorithm provides the right LU decomposition with row pivoting."
   ]
  },
  {
   "cell_type": "markdown",
   "metadata": {},
   "source": [
    "### Cubic Spline Interpolation \n",
    "\n"
   ]
  },
  {
   "cell_type": "markdown",
   "metadata": {},
   "source": [
    "In this part, cubic spline interpolation was used to obtain a continous spot rate cruve from the the values of discrete spot rate. For each interval between two discrete date, a cubic function was estimated to represent this interval. "
   ]
  },
  {
   "cell_type": "code",
   "execution_count": 15,
   "metadata": {
    "collapsed": false
   },
   "outputs": [
    {
     "data": {
      "text/html": [
       "<div>\n",
       "<table border=\"1\" class=\"dataframe\">\n",
       "  <thead>\n",
       "    <tr style=\"text-align: right;\">\n",
       "      <th></th>\n",
       "      <th>Time</th>\n",
       "      <th>Spot Rate</th>\n",
       "    </tr>\n",
       "  </thead>\n",
       "  <tbody>\n",
       "    <tr>\n",
       "      <th>over nigtht</th>\n",
       "      <td>0.000000</td>\n",
       "      <td>0.0050</td>\n",
       "    </tr>\n",
       "    <tr>\n",
       "      <th>2 month</th>\n",
       "      <td>0.166667</td>\n",
       "      <td>0.0065</td>\n",
       "    </tr>\n",
       "    <tr>\n",
       "      <th>6 month</th>\n",
       "      <td>0.500000</td>\n",
       "      <td>0.0085</td>\n",
       "    </tr>\n",
       "    <tr>\n",
       "      <th>12 month</th>\n",
       "      <td>1.000000</td>\n",
       "      <td>0.0105</td>\n",
       "    </tr>\n",
       "    <tr>\n",
       "      <th>20 month</th>\n",
       "      <td>1.666667</td>\n",
       "      <td>0.0120</td>\n",
       "    </tr>\n",
       "  </tbody>\n",
       "</table>\n",
       "</div>"
      ],
      "text/plain": [
       "                 Time  Spot Rate\n",
       "over nigtht  0.000000     0.0050\n",
       "2 month      0.166667     0.0065\n",
       "6 month      0.500000     0.0085\n",
       "12 month     1.000000     0.0105\n",
       "20 month     1.666667     0.0120"
      ]
     },
     "execution_count": 15,
     "metadata": {},
     "output_type": "execute_result"
    }
   ],
   "source": [
    "# Suppose this is the spot rate we are interpolating\n",
    "Spot_Rate = pd.DataFrame(np.array([\n",
    "        [0,0.005],\n",
    "        [2/12,0.0065],\n",
    "        [6/12,0.0085],\n",
    "        [12/12,0.0105],\n",
    "        [20/12,0.012]\n",
    "    ]), columns = ['Time','Spot Rate'],index = ['over nigtht', '2 month', '6 month', '12 month', '20 month'])\n",
    "Spot_Rate"
   ]
  },
  {
   "cell_type": "code",
   "execution_count": 16,
   "metadata": {
    "collapsed": false
   },
   "outputs": [
    {
     "data": {
      "text/plain": [
       "<matplotlib.legend.Legend at 0x106b6fe80>"
      ]
     },
     "execution_count": 16,
     "metadata": {},
     "output_type": "execute_result"
    },
    {
     "data": {
      "image/png": "[encoded data removed]",
      "text/plain": [
       "<matplotlib.figure.Figure at 0x106ae7b70>"
      ]
     },
     "metadata": {},
     "output_type": "display_data"
    }
   ],
   "source": [
    "# This question finally boils down to a 16-dimensional Linear System Question\n",
    "# Since it's such a large matrix and would be really hard to input, I chose to use the Scipy.interpolation\n",
    "# library to conduct the following calculation.\n",
    "f = interp1d(Spot_Rate['Time'],Spot_Rate['Spot Rate'],kind = 'cubic')\n",
    "xnew = np.linspace(0,20/12, num=41, endpoint=True)\n",
    "plt.plot(xnew,f(xnew),'-',linewidth=0.5)\n",
    "plt.plot(Spot_Rate['Time'],Spot_Rate['Spot Rate'],'ro')\n",
    "plt.plot(Spot_Rate['Time'],Spot_Rate['Spot Rate'],'--',linewidth=0.5)\n",
    "plt.legend(['cubic','data'],loc='best')"
   ]
  },
  {
   "cell_type": "markdown",
   "metadata": {},
   "source": [
    "Now we have smooth line (blue in above) as the spot rate curve."
   ]
  }
 ],
 "metadata": {
  "kernelspec": {
   "display_name": "Python 3",
   "language": "python",
   "name": "python3"
  },
  "language_info": {
   "codemirror_mode": {
    "name": "ipython",
    "version": 3
   },
   "file_extension": ".py",
   "mimetype": "text/x-python",
   "name": "python",
   "nbconvert_exporter": "python",
   "pygments_lexer": "ipython3",
   "version": "3.5.2"
  }
 },
 "nbformat": 4,
 "nbformat_minor": 1
}
