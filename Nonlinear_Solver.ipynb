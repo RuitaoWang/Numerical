{
 "cells": [
  {
   "cell_type": "markdown",
   "metadata": {},
   "source": [
    "# Nonlinear Solver"
   ]
  },
  {
   "cell_type": "markdown",
   "metadata": {},
   "source": [
    "Many problems in finance (bond yield calculation, implied volatility calculation) require solving a nonlinear equation. In this section I explored the following 3 basic nonlinear solvers that can be the starting point and foundation for more complex solvers:\n",
    "* **Bisection Method**\n",
    "* **Newtown Method**\n",
    "* **Secant Method**\n",
    "\n",
    "Application of these Nonlinear solvers in the folllowing areas are also discussed:\n",
    "* **Yield Caculation for a bond**\n",
    "* **Implied Volatility Calculation for an option**\n",
    "* **Spot Rate Curve Calculation from bond prices**"
   ]
  },
  {
   "cell_type": "code",
   "execution_count": 1,
   "metadata": {
    "collapsed": false
   },
   "outputs": [
    {
     "data": {
      "text/plain": [
       "'%.6f'"
      ]
     },
     "execution_count": 1,
     "metadata": {},
     "output_type": "execute_result"
    }
   ],
   "source": [
    "import numpy as np\n",
    "from math import exp\n",
    "%precision 6"
   ]
  },
  {
   "cell_type": "markdown",
   "metadata": {},
   "source": [
    "## Nonlinear Methods"
   ]
  },
  {
   "cell_type": "code",
   "execution_count": 2,
   "metadata": {
    "collapsed": false
   },
   "outputs": [],
   "source": [
    "# Evaluation function\n",
    "def func(x):\n",
    "    return x**4 - 5*x**2 + 4 - 1/(1+exp(x**3))"
   ]
  },
  {
   "cell_type": "markdown",
   "metadata": {},
   "source": [
    "** Bisection Method**\n",
    "\n",
    "Bisection method only works under the case that f is a continous function with different sign on the chosen interval"
   ]
  },
  {
   "cell_type": "code",
   "execution_count": 3,
   "metadata": {
    "collapsed": false
   },
   "outputs": [],
   "source": [
    "def Bisection(a,b,tol_int):\n",
    "    # a: left endpoint of the interval\n",
    "    # b: right endpoint of the terval\n",
    "    # tol_int: largest admissible size of active interval when solution is found\n",
    "    xl = a \n",
    "    xr = b\n",
    "    itera = 0\n",
    "    if func(xl)==0:\n",
    "        return xl\n",
    "    elif func(xr)==0:\n",
    "        return xr\n",
    "    elif func(xl)*func(xr)>0:\n",
    "        print('Error: No solution satisfied Bisection method')\n",
    "        return None\n",
    "    else:\n",
    "        mid = (xl+xr)/2\n",
    "        error=(xr-xl)/2\n",
    "        itera = 0\n",
    "        while(error>tol_int):\n",
    "            if func(mid)==0:\n",
    "                return mid\n",
    "            elif func(xr)*func(mid)<0:\n",
    "                xl = mid\n",
    "            elif func(xl)*func(mid)<0:\n",
    "                xr = mid\n",
    "            mid = (xl + xr)/2\n",
    "            error = (xr-xl)/2\n",
    "            itera = itera+1\n",
    "        return mid,itera\n",
    "                \n",
    "    "
   ]
  },
  {
   "cell_type": "code",
   "execution_count": 4,
   "metadata": {
    "collapsed": false
   },
   "outputs": [
    {
     "data": {
      "text/plain": [
       "(-0.889642, 32)"
      ]
     },
     "execution_count": 4,
     "metadata": {},
     "output_type": "execute_result"
    }
   ],
   "source": [
    "# It is shown that with a error tolerance of 0.000000001, after 32 iterations, we got the solution  -0.889642\n",
    "Bisection(-2,3,0.000000001)"
   ]
  },
  {
   "cell_type": "markdown",
   "metadata": {},
   "source": [
    "** Newtown's Method **\n",
    "\n",
    "One of the most commonly used nonlinear solve is Newtown's method. It requires that the function is differentiable. Also, if we start from a point close enough to the solution, Newtown's method would converge quadratically. However, it requires that we have the differential function analytically."
   ]
  },
  {
   "cell_type": "code",
   "execution_count": 5,
   "metadata": {
    "collapsed": false
   },
   "outputs": [],
   "source": [
    "# First we need to define the differential fuction\n",
    "def func_d(x):\n",
    "    return 4*x**3-10*x+3*x**2*exp(x**3)/(1+exp(x**3))**2"
   ]
  },
  {
   "cell_type": "code",
   "execution_count": 6,
   "metadata": {
    "collapsed": false
   },
   "outputs": [],
   "source": [
    "def Newtown(x_0, tol_int):\n",
    "    x_new = x_0\n",
    "    if func(x_0) == 0:\n",
    "        return x_0\n",
    "    else:\n",
    "        while abs(func(x_new))>tol_int:\n",
    "            x_old = x_new\n",
    "            x_new = x_old - func(x_old)/func_d(x_old)\n",
    "    return x_new            "
   ]
  },
  {
   "cell_type": "code",
   "execution_count": 7,
   "metadata": {
    "collapsed": false
   },
   "outputs": [
    {
     "name": "stdout",
     "output_type": "stream",
     "text": [
      "2.0000279352906616\n",
      "CPU times: user 80 µs, sys: 0 ns, total: 80 µs\n",
      "Wall time: 83.9 µs\n",
      "5.471666629985536e-10\n"
     ]
    }
   ],
   "source": [
    "## It should be noted that the starting point matters for our final solution\n",
    "% time print(Newtown(3,0.000000001))\n",
    "print(func(Newtown(3,0.000000001)))"
   ]
  },
  {
   "cell_type": "code",
   "execution_count": 8,
   "metadata": {
    "collapsed": false
   },
   "outputs": [
    {
     "name": "stdout",
     "output_type": "stream",
     "text": [
      "2.000027935245084\n",
      "CPU times: user 64 µs, sys: 0 ns, total: 64 µs\n",
      "Wall time: 67.9 µs\n",
      "4.016318527755303e-15\n"
     ]
    }
   ],
   "source": [
    "% time print(Newtown(2,0.000000001))\n",
    "print(func(Newtown(2,0.000000001)))"
   ]
  },
  {
   "cell_type": "code",
   "execution_count": 9,
   "metadata": {
    "collapsed": false
   },
   "outputs": [
    {
     "name": "stdout",
     "output_type": "stream",
     "text": [
      "0.9507482560164099\n",
      "CPU times: user 103 µs, sys: 1e+03 ns, total: 104 µs\n",
      "Wall time: 108 µs\n",
      "2.7755575615628914e-16\n"
     ]
    }
   ],
   "source": [
    "% time print(Newtown(1,0.000000001))\n",
    "print(func(Newtown(1,0.000000001)))"
   ]
  },
  {
   "cell_type": "markdown",
   "metadata": {},
   "source": [
    "The time and iteration it takes to reach a solution also differs on the starting point. Now let's take a look at the convergent speed."
   ]
  },
  {
   "cell_type": "code",
   "execution_count": 10,
   "metadata": {
    "collapsed": false
   },
   "outputs": [
    {
     "name": "stdout",
     "output_type": "stream",
     "text": [
      "[ 3.        2.487179  2.178029  2.035583  2.001875  2.000033  2.000028]\n",
      "[  9.999720e-01   4.871515e-01   1.780007e-01   3.555470e-02   1.846824e-03\n",
      "   5.304701e-06   6.470934e-08]\n"
     ]
    }
   ],
   "source": [
    "# Starting at 3\n",
    "x = []\n",
    "x.append(3) \n",
    "while abs(func(x[-1]))>0.000000001:\n",
    "    x_new = x[-1] - func(x[-1])/func_d(x[-1])\n",
    "    x.append(x_new)\n",
    "x = np.array(x)\n",
    "error = np.abs(x-2.000028)\n",
    "print(x)\n",
    "print(error)\n"
   ]
  },
  {
   "cell_type": "code",
   "execution_count": 11,
   "metadata": {
    "collapsed": false
   },
   "outputs": [
    {
     "name": "stdout",
     "output_type": "stream",
     "text": [
      "[ 5.        3.88      3.08263   2.54078   2.207541  2.046147  2.003067\n",
      "  2.000042  2.000028  2.000028]\n",
      "[  2.999972e+00   1.879972e+00   1.082602e+00   5.407516e-01   2.075132e-01\n",
      "   4.611911e-02   3.039043e-03   1.443468e-05   6.442257e-08   6.475492e-08]\n"
     ]
    }
   ],
   "source": [
    "# Starting at 5\n",
    "x = []\n",
    "x.append(5) \n",
    "while abs(func(x[-1]))>0.000000001:\n",
    "    x_new = x[-1] - func(x[-1])/func_d(x[-1])\n",
    "    x.append(x_new)\n",
    "x = np.array(x)\n",
    "error = np.abs(x-2.000028)\n",
    "print(x)\n",
    "print(error)"
   ]
  },
  {
   "cell_type": "markdown",
   "metadata": {
    "collapsed": true
   },
   "source": [
    "** Secant Method **\n",
    "\n",
    "This is the an approximation for Newtown method when an analytical differential function doesn't exist."
   ]
  },
  {
   "cell_type": "code",
   "execution_count": 12,
   "metadata": {
    "collapsed": false
   },
   "outputs": [],
   "source": [
    "def Secant(x_s,x_0,tol_int):\n",
    "    x_new = x_0\n",
    "    x_old = x_s\n",
    "    while abs(func(x_new))>tol_int:\n",
    "        x_oldest = x_old\n",
    "        x_old = x_new\n",
    "        x_new = x_old - func(x_old)*(x_old-x_oldest)/(func(x_old)-func(x_oldest))\n",
    "    return x_new"
   ]
  },
  {
   "cell_type": "code",
   "execution_count": 13,
   "metadata": {
    "collapsed": false
   },
   "outputs": [
    {
     "data": {
      "text/plain": [
       "-0.889642"
      ]
     },
     "execution_count": 13,
     "metadata": {},
     "output_type": "execute_result"
    }
   ],
   "source": [
    "Secant(-0.01,3,0.00001)"
   ]
  }
 ],
 "metadata": {
  "kernelspec": {
   "display_name": "Python 3",
   "language": "python",
   "name": "python3"
  },
  "language_info": {
   "codemirror_mode": {
    "name": "ipython",
    "version": 3
   },
   "file_extension": ".py",
   "mimetype": "text/x-python",
   "name": "python",
   "nbconvert_exporter": "python",
   "pygments_lexer": "ipython3",
   "version": "3.5.2"
  }
 },
 "nbformat": 4,
 "nbformat_minor": 1
}
