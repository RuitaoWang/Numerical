{
 "cells": [
  {
   "cell_type": "markdown",
   "metadata": {},
   "source": [
    "# Numerical Integration"
   ]
  },
  {
   "cell_type": "markdown",
   "metadata": {},
   "source": [
    "A great deal of financial problems such as bond valuation (especially with changing interest rate) and valuation of plain vanilla European Option boils down to simple integration problems. However, not all integral problems are well defined with analytical solution. In this section, I explored three simple numerical approaches for approximating those function without analytical integral solution.\n",
    "\n",
    "Three approximation (more advanced to be updated soon) methods are discussed as well as bond, Black-Sholes valuation examples."
   ]
  },
  {
   "cell_type": "markdown",
   "metadata": {},
   "source": [
    "* Midpoint method (constant approximation)\n",
    "* Trapezoidal method (linear approximation)\n",
    "* Simpson's method (Quadratic approximation)"
   ]
  },
  {
   "cell_type": "code",
   "execution_count": 25,
   "metadata": {
    "collapsed": false
   },
   "outputs": [
    {
     "data": {
      "text/plain": [
       "'%.8f'"
      ]
     },
     "execution_count": 25,
     "metadata": {},
     "output_type": "execute_result"
    }
   ],
   "source": [
    "import numpy as np\n",
    "from math import exp, pi, log\n",
    "import pandas as pd\n",
    "% precision 8"
   ]
  },
  {
   "cell_type": "markdown",
   "metadata": {},
   "source": [
    "## Simple Integration"
   ]
  },
  {
   "cell_type": "markdown",
   "metadata": {},
   "source": [
    "Integral values are commonly approximated by dividing integral interval into smaller sub-intervals. The three methods mentioned above differed in terms of how to approximate sub-inteval value.\n",
    "\n",
    "$ \\int_a^b \\mathrm{e}^{-x^2}\\,\\mathrm{d}x $ is used to evaluate these methods."
   ]
  },
  {
   "cell_type": "code",
   "execution_count": 26,
   "metadata": {
    "collapsed": false
   },
   "outputs": [
    {
     "data": {
      "text/plain": [
       "0.00000000"
      ]
     },
     "execution_count": 26,
     "metadata": {},
     "output_type": "execute_result"
    }
   ],
   "source": [
    "def func(x):\n",
    "   return exp(-x**2)"
   ]
  },
  {
   "cell_type": "markdown",
   "metadata": {},
   "source": [
    "** Midpoint method **\n",
    "\n",
    "A constant was used to approximate the integral in each sub-interval."
   ]
  },
  {
   "cell_type": "code",
   "execution_count": 3,
   "metadata": {
    "collapsed": false
   },
   "outputs": [],
   "source": [
    "def midpoint(a,b,n):\n",
    "    # a: left end point for the integral\n",
    "    # b: right end point for the integral\n",
    "    # n: number of partition intervals\n",
    "    h = (b-a)/n   # sub-interval length\n",
    "    I_midpoint = 0\n",
    "    for i in range(n):\n",
    "      I_midpoint = I_midpoint + func(a+h*(i+0.5))  \n",
    "    return  h*I_midpoint  "
   ]
  },
  {
   "cell_type": "markdown",
   "metadata": {},
   "source": [
    "** Trapezoidal method **\n",
    "\n",
    "Linear interpolation was used to approximate the integral in each sub-interval."
   ]
  },
  {
   "cell_type": "code",
   "execution_count": 4,
   "metadata": {
    "collapsed": true
   },
   "outputs": [],
   "source": [
    "def trapezoidal(a,b,n):\n",
    "    # a: left end point for the integral\n",
    "    # b: right end point for the integral\n",
    "    # n: number of partition intervals\n",
    "    h = (b-a)/n   # sub-interval length\n",
    "    I_trap = func(a)/2 + func(b)/2\n",
    "    for i in range(n-1):\n",
    "        I_trap = I_trap + func(a+h*(i+1))\n",
    "    return h*I_trap"
   ]
  },
  {
   "cell_type": "markdown",
   "metadata": {},
   "source": [
    "** Simpson's method **\n",
    "\n",
    "Quadratic interpolation was used to approximate the integral in each sub-interval."
   ]
  },
  {
   "cell_type": "code",
   "execution_count": 5,
   "metadata": {
    "collapsed": true
   },
   "outputs": [],
   "source": [
    "def simpson(a,b,n):\n",
    "    # a: left end point for the integral\n",
    "    # b: right end point for the integral\n",
    "    # n: number of partition intervals\n",
    "    h = (b-a)/n   # sub-interval length\n",
    "    I_simpson = func(a)/6 + func(b)/6\n",
    "    for i in range(n-1):\n",
    "        I_simpson = I_simpson + func(a+h*(i+1))/3\n",
    "    for i in range(n):\n",
    "        I_simpson = I_simpson + 2*func(a+h*(i+0.5))/3\n",
    "    return h*I_simpson"
   ]
  },
  {
   "cell_type": "markdown",
   "metadata": {},
   "source": [
    "** A first simple comparison **"
   ]
  },
  {
   "cell_type": "code",
   "execution_count": 6,
   "metadata": {
    "collapsed": false
   },
   "outputs": [
    {
     "data": {
      "text/html": [
       "<div>\n",
       "<table border=\"1\" class=\"dataframe\">\n",
       "  <thead>\n",
       "    <tr style=\"text-align: right;\">\n",
       "      <th></th>\n",
       "      <th>No. Intervals</th>\n",
       "      <th>Midpoint Method</th>\n",
       "      <th>Trapezoidal Method</th>\n",
       "      <th>Simpson Method</th>\n",
       "    </tr>\n",
       "  </thead>\n",
       "  <tbody>\n",
       "    <tr>\n",
       "      <th>0</th>\n",
       "      <td>4</td>\n",
       "      <td>0.882789</td>\n",
       "      <td>0.880619</td>\n",
       "      <td>0.882066</td>\n",
       "    </tr>\n",
       "    <tr>\n",
       "      <th>1</th>\n",
       "      <td>8</td>\n",
       "      <td>0.882269</td>\n",
       "      <td>0.881704</td>\n",
       "      <td>0.882080</td>\n",
       "    </tr>\n",
       "    <tr>\n",
       "      <th>2</th>\n",
       "      <td>16</td>\n",
       "      <td>0.882129</td>\n",
       "      <td>0.881986</td>\n",
       "      <td>0.882081</td>\n",
       "    </tr>\n",
       "    <tr>\n",
       "      <th>3</th>\n",
       "      <td>32</td>\n",
       "      <td>0.882093</td>\n",
       "      <td>0.882058</td>\n",
       "      <td>0.882081</td>\n",
       "    </tr>\n",
       "    <tr>\n",
       "      <th>4</th>\n",
       "      <td>64</td>\n",
       "      <td>0.882084</td>\n",
       "      <td>0.882075</td>\n",
       "      <td>0.882081</td>\n",
       "    </tr>\n",
       "    <tr>\n",
       "      <th>5</th>\n",
       "      <td>128</td>\n",
       "      <td>0.882082</td>\n",
       "      <td>0.882080</td>\n",
       "      <td>0.882081</td>\n",
       "    </tr>\n",
       "    <tr>\n",
       "      <th>6</th>\n",
       "      <td>256</td>\n",
       "      <td>0.882082</td>\n",
       "      <td>0.882081</td>\n",
       "      <td>0.882081</td>\n",
       "    </tr>\n",
       "    <tr>\n",
       "      <th>7</th>\n",
       "      <td>512</td>\n",
       "      <td>0.882081</td>\n",
       "      <td>0.882081</td>\n",
       "      <td>0.882081</td>\n",
       "    </tr>\n",
       "  </tbody>\n",
       "</table>\n",
       "</div>"
      ],
      "text/plain": [
       "   No. Intervals  Midpoint Method  Trapezoidal Method  Simpson Method\n",
       "0              4         0.882789            0.880619        0.882066\n",
       "1              8         0.882269            0.881704        0.882080\n",
       "2             16         0.882129            0.881986        0.882081\n",
       "3             32         0.882093            0.882058        0.882081\n",
       "4             64         0.882084            0.882075        0.882081\n",
       "5            128         0.882082            0.882080        0.882081\n",
       "6            256         0.882082            0.882081        0.882081\n",
       "7            512         0.882081            0.882081        0.882081"
      ]
     },
     "execution_count": 6,
     "metadata": {},
     "output_type": "execute_result"
    }
   ],
   "source": [
    "Intervals = [4,8,16,32,64,128,256,512]\n",
    "Midpoint = np.zeros(8)\n",
    "Trapezoidal = np.zeros(8)\n",
    "Simpson = np.zeros(8)\n",
    "for i in range(8):\n",
    "    Midpoint[i] = midpoint(0,2,Intervals[i])\n",
    "for i in range(8):\n",
    "    Trapezoidal[i] = trapezoidal(0,2,Intervals[i])\n",
    "for i in range(8):\n",
    "    Simpson[i] = simpson(0,2,Intervals[i])\n",
    "Comparison = pd.DataFrame(Intervals)\n",
    "Comparison['Midpoint Method'] = Midpoint\n",
    "Comparison['Trapezoidal Method'] = Trapezoidal\n",
    "Comparison['Simpson Method'] = Simpson\n",
    "Comparison.columns = ['No. Intervals', 'Midpoint Method','Trapezoidal Method','Simpson Method']\n",
    "Comparison"
   ]
  },
  {
   "cell_type": "markdown",
   "metadata": {},
   "source": [
    "** Convergence Speed **"
   ]
  },
  {
   "cell_type": "markdown",
   "metadata": {},
   "source": [
    "1. If the function f(x) is 2nd order differentiable and is continous after differentiion. Midpoint and Trapezoidal methods converge in 1/n^2\n",
    "2. If the function f(x) is 4th order differentiable and is continous after differentiion. Midpoint and Trapezoidal methods converge in 1/n^4"
   ]
  },
  {
   "cell_type": "code",
   "execution_count": 7,
   "metadata": {
    "collapsed": false
   },
   "outputs": [
    {
     "name": "stdout",
     "output_type": "stream",
     "text": [
      "CPU times: user 3 µs, sys: 1 µs, total: 4 µs\n",
      "Wall time: 7.15 µs\n",
      "Midpoint method converges into tolerance zoone after: 512\n",
      "integral value is:  0.8820814373412922\n"
     ]
    }
   ],
   "source": [
    "# an algorithm used to calculate the number of intervals to reach certain tolerance range.\n",
    "# Suppose we have a tolerance rate of .0.0000005\n",
    "%time\n",
    "tolerance = 0.0000005\n",
    "# Number of intervals taken for midpoint\n",
    "n = 4\n",
    "I_old = midpoint(0,2,n)\n",
    "n= 2*n\n",
    "I_new = midpoint(0,2,n)\n",
    "while abs(I_new-I_old)>tolerance:\n",
    "    I_old=I_new\n",
    "    n=2*n\n",
    "    I_new=midpoint(0,2,n)\n",
    "print('Midpoint method converges into tolerance zoone after:', n)\n",
    "print('integral value is: ', I_new)"
   ]
  },
  {
   "cell_type": "code",
   "execution_count": 8,
   "metadata": {
    "collapsed": false
   },
   "outputs": [
    {
     "name": "stdout",
     "output_type": "stream",
     "text": [
      "CPU times: user 3 µs, sys: 0 ns, total: 3 µs\n",
      "Wall time: 6.91 µs\n",
      "Trapezoidal method converges into tolerance zoone after: 512\n",
      "integral value is:  0.8820812976045025\n"
     ]
    }
   ],
   "source": [
    "# Number of intervals taken for Trapezoidal\n",
    "%time\n",
    "n = 4\n",
    "I_old = trapezoidal(0,2,n)\n",
    "n= 2*n\n",
    "I_new = trapezoidal(0,2,n)\n",
    "while abs(I_new-I_old)>tolerance:\n",
    "    I_old=I_new\n",
    "    n=2*n\n",
    "    I_new=trapezoidal(0,2,n)\n",
    "print('Trapezoidal method converges into tolerance zoone after:', n)\n",
    "print('integral value is: ', I_new)"
   ]
  },
  {
   "cell_type": "code",
   "execution_count": 9,
   "metadata": {
    "collapsed": false
   },
   "outputs": [
    {
     "name": "stdout",
     "output_type": "stream",
     "text": [
      "CPU times: user 3 µs, sys: 1 µs, total: 4 µs\n",
      "Wall time: 7.15 µs\n",
      "Simpson method converges into tolerance zoone after: 32\n",
      "integral value is:  0.8820813868806548\n"
     ]
    }
   ],
   "source": [
    "# Number of intervals taken for Simpson method\n",
    "%time\n",
    "n = 4\n",
    "I_old = simpson(0,2,n)\n",
    "n= 2*n\n",
    "I_new = simpson(0,2,n)\n",
    "while abs(I_new-I_old)>tolerance:\n",
    "    I_old=I_new\n",
    "    n=2*n\n",
    "    I_new=simpson(0,2,n)\n",
    "print('Simpson method converges into tolerance zoone after:', n)\n",
    "print('integral value is: ', I_new)"
   ]
  },
  {
   "cell_type": "markdown",
   "metadata": {},
   "source": [
    "It is clearly to see that, the Simpson method converges in a faster speed. This is because the function is defferentiable to the 4th power."
   ]
  },
  {
   "cell_type": "markdown",
   "metadata": {},
   "source": [
    "## Bond valuation example"
   ]
  },
  {
   "cell_type": "markdown",
   "metadata": {},
   "source": [
    "Here, suppose we have a semi-annual coupon bond with 5% coupon rate and 4 years to maturity. The price was caculated from:\n",
    "* spot rate curve\n",
    "* instantaneous rate curve\n",
    "\n",
    "Also, duration and convexity can be obtained"
   ]
  },
  {
   "cell_type": "code",
   "execution_count": 10,
   "metadata": {
    "collapsed": false
   },
   "outputs": [],
   "source": [
    "# Bond feature:\n",
    "n = 8  # number of total payment \n",
    "T_pmt = np.linspace(.5,4,8)  # payment date\n",
    "V_pmt = [5,5,5,5,5,5,5,105] # pmt made on each pmt date"
   ]
  },
  {
   "cell_type": "markdown",
   "metadata": {},
   "source": [
    "** Valuation given spot rate curve **\n",
    "\n",
    "Valuation given a known spot rate curve is a simple discount of each payment"
   ]
  },
  {
   "cell_type": "code",
   "execution_count": 11,
   "metadata": {
    "collapsed": false
   },
   "outputs": [
    {
     "data": {
      "text/plain": [
       "120.57316333"
      ]
     },
     "execution_count": 11,
     "metadata": {},
     "output_type": "execute_result"
    }
   ],
   "source": [
    "spot_rate = [.03,0.2,.04,.06,.06,.04,.05,.04]\n",
    "Bond_Price = 0\n",
    "disc = np.zeros(8)\n",
    "for i in range(8):\n",
    "    disc[i] = exp(-T_pmt[i]*spot_rate[i])\n",
    "    Bond_Price = Bond_Price + V_pmt[i]*disc[i]\n",
    "Bond_Price"
   ]
  },
  {
   "cell_type": "markdown",
   "metadata": {},
   "source": [
    "** Valuation given instantaneous rate **\n",
    "\n",
    "Can be calculated with integration"
   ]
  },
  {
   "cell_type": "code",
   "execution_count": 12,
   "metadata": {
    "collapsed": false
   },
   "outputs": [
    {
     "data": {
      "text/plain": [
       "117.67563978"
      ]
     },
     "execution_count": 12,
     "metadata": {},
     "output_type": "execute_result"
    }
   ],
   "source": [
    "inst_rate = [.03,0.2,.04,.06,.06,.04,.05,.04]\n",
    "Bond_Price = 0\n",
    "disc = np.zeros(8)\n",
    "num = np.zeros(8)\n",
    "def func(x):\n",
    "    return .05\n",
    "for i in range(8):\n",
    "    n = 4\n",
    "    I_old = simpson(0,T_pmt[i],n)\n",
    "    n = 2*n\n",
    "    I_new = simpson(0,T_pmt[i],n)\n",
    "    while abs(I_old-I_new)>.0000005:    # set tolerance as 0.0000005\n",
    "        I_old = I_new\n",
    "        n=2*n\n",
    "        I_new = simpson(0,T_pmt,n)\n",
    "    num[i] = I_new\n",
    "    disc[i] = exp(-I_new)\n",
    "    Bond_Price = Bond_Price + V_pmt[i]*disc[i]\n",
    "\n",
    "Bond_Price"
   ]
  },
  {
   "cell_type": "markdown",
   "metadata": {},
   "source": [
    "** Duration and Convexity **"
   ]
  },
  {
   "cell_type": "code",
   "execution_count": 13,
   "metadata": {
    "collapsed": false
   },
   "outputs": [
    {
     "name": "stdout",
     "output_type": "stream",
     "text": [
      "Bond price is:  117.675639777\n",
      "Duration is:  3.44761344052\n",
      "Convexity is:  12.982325355\n"
     ]
    }
   ],
   "source": [
    "T = 4 # bond maturity (in years)\n",
    "n = 8 # number of cash flows\n",
    "T_pmt = np.linspace(.5,4,8)  # payment date\n",
    "V_pmt = [5,5,5,5,5,5,5,105] # pmt made on each pmt date\n",
    "y = .05 # yield to maturity\n",
    "\n",
    "B=0 # bond price\n",
    "D=0 # duration of the bond\n",
    "C=0 # convexity of the bond\n",
    "\n",
    "disc = np.zeros(n)\n",
    "for i in range(n):\n",
    "    disc[i] = exp(-y*T_pmt[i])\n",
    "    B=B+V_pmt[i]*disc[i]\n",
    "    D=D+T_pmt[i]*V_pmt[i]*disc[i]\n",
    "    C=C+V_pmt[i]*disc[i]*T_pmt[i]**2\n",
    "D=D/B\n",
    "C=C/B\n",
    "print('Bond price is: ', B)\n",
    "print('Duration is: ', D)\n",
    "print('Convexity is: ', C)"
   ]
  },
  {
   "cell_type": "markdown",
   "metadata": {},
   "source": [
    "## Black-Schole Example"
   ]
  },
  {
   "cell_type": "markdown",
   "metadata": {},
   "source": [
    "** Cumulative Prob Function **\n",
    "\n",
    "First we need to define the function used for standard normal cumulative probability function. One thing should be mentioned is that scipy provides integral functions. Hoever I used Abramowitz and Stegun to approximate this function. This method has a approximation error smaller than 0.00000075. "
   ]
  },
  {
   "cell_type": "code",
   "execution_count": 18,
   "metadata": {
    "collapsed": true
   },
   "outputs": [],
   "source": [
    "def standard_normal_cum(t):\n",
    "    z = abs(t)\n",
    "    y=1/(1+0.2316419*z)\n",
    "    a1=0.319381530\n",
    "    a2=-0.356563782\n",
    "    a3=1.781477937\n",
    "    a4=-1.821255978\n",
    "    a5=1.330274429\n",
    "    m=1-exp(-0.5*t**2)*(a1*y+a2*y**2+a3*y**3+a4*y**4+a5*y**5)/(2*pi)**0.5\n",
    "    if t>0:\n",
    "        ans = m\n",
    "    else:\n",
    "        ans=1-m\n",
    "    return ans"
   ]
  },
  {
   "cell_type": "code",
   "execution_count": 22,
   "metadata": {
    "collapsed": false
   },
   "outputs": [
    {
     "name": "stdout",
     "output_type": "stream",
     "text": [
      "0.49999999947519136\n",
      "0.9900969469515918\n",
      "0.9750021748433644\n"
     ]
    }
   ],
   "source": [
    "# test the accuracy\n",
    "print(standard_normal_cum(0))\n",
    "print(standard_normal_cum(2.33))\n",
    "print(standard_normal_cum(1.96))"
   ]
  },
  {
   "cell_type": "markdown",
   "metadata": {},
   "source": [
    "** Black-Scholes **\n",
    "\n",
    "The starting point of derivative pricing"
   ]
  },
  {
   "cell_type": "code",
   "execution_count": 33,
   "metadata": {
    "collapsed": false
   },
   "outputs": [],
   "source": [
    "def Black_Scholes(t, s, k, T, sig, r, q, option):\n",
    "    # t: present time\n",
    "    # s: current spot price\n",
    "    # k: strike price\n",
    "    # T: maturity time\n",
    "    # sig: volatility\n",
    "    # r: risk free rate\n",
    "    # q: continous dividend rate of underlying asset \n",
    "    # option type 'C' for call and 'P' for put\n",
    "    d1 = (log(s/k)+(r-q+0.5*sig**2))/(sig*(T-t)**0.5)\n",
    "    d2 = d1 - (sig*(T-t)**0.5)\n",
    "    if option == 'C':\n",
    "        Option = s*exp(q*(t-T))*standard_normal_cum(d1)-k*exp(r*(t-T))*standard_normal_cum(d2)\n",
    "    if option == 'P':\n",
    "        Option = k*exp(r*(t-T))*standard_normal_cum(-d2)-s*exp(q*(t-T))*standard_normal_cum(-d1)\n",
    "    return Option"
   ]
  },
  {
   "cell_type": "code",
   "execution_count": 34,
   "metadata": {
    "collapsed": false
   },
   "outputs": [
    {
     "data": {
      "text/plain": [
       "2.66569295"
      ]
     },
     "execution_count": 34,
     "metadata": {},
     "output_type": "execute_result"
    }
   ],
   "source": [
    "Black_Scholes(0,42,40,0.5,0.3,0.03,0.05,'P')"
   ]
  },
  {
   "cell_type": "code",
   "execution_count": 35,
   "metadata": {
    "collapsed": false
   },
   "outputs": [
    {
     "data": {
      "text/plain": [
       "4.22423167"
      ]
     },
     "execution_count": 35,
     "metadata": {},
     "output_type": "execute_result"
    }
   ],
   "source": [
    "Black_Scholes(0,42,40,0.5,0.3,0.03,0.05,'C')"
   ]
  }
 ],
 "metadata": {
  "kernelspec": {
   "display_name": "Python 3",
   "language": "python",
   "name": "python3"
  },
  "language_info": {
   "codemirror_mode": {
    "name": "ipython",
    "version": 3
   },
   "file_extension": ".py",
   "mimetype": "text/x-python",
   "name": "python",
   "nbconvert_exporter": "python",
   "pygments_lexer": "ipython3",
   "version": "3.5.2"
  }
 },
 "nbformat": 4,
 "nbformat_minor": 1
}
